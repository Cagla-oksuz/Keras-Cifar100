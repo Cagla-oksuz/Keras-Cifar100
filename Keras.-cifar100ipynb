{
 "cells": [
  {
   "cell_type": "code",
   "execution_count": 3,
   "metadata": {},
   "outputs": [],
   "source": [
    "import tensorflow\n",
    "import tensorflow as tf\n",
    "import keras\n",
    "import os \n",
    "from PIL import Image\n",
    "import matplotlib.pyplot as plt\n",
    "from keras.datasets import cifar100\n",
    "import numpy as np\n",
    "import cv2\n",
    "from tqdm import tqdm\n",
    "import random\n",
    "\n",
    "(X_train, y_train),(X_test, y_test)=cifar100.load_data()\n",
    "\n",
    "os.mkdir('/Users/caglaoksuz/Desktop/dataset')\n",
    "os.mkdir('/Users/caglaoksuz/Desktop/dataset/train')\n",
    "os.mkdir('/Users/caglaoksuz/Desktop/dataset/test')\n",
    "\n",
    "###bu for icerisinde cifar100 data seti icerinden istenilen klasorler olusturuluyor\n",
    "for i in range(100):\n",
    "    if(i==6):\n",
    "        path=os.path.join('/Users/caglaoksuz/Desktop/dataset/train', 'bee')\n",
    "        os.mkdir(path)\n",
    "        path=os.path.join('/Users/caglaoksuz/Desktop/dataset/test', 'bee')\n",
    "        os.mkdir(path)\n",
    "    if(i==32):\n",
    "        path=os.path.join('/Users/caglaoksuz/Desktop/dataset/train', 'flatfish')\n",
    "        os.mkdir(path)\n",
    "        path=os.path.join('/Users/caglaoksuz/Desktop/dataset/test', 'flatfish')\n",
    "        os.mkdir(path)\n",
    "    if(i==35):\n",
    "        path=os.path.join('/Users/caglaoksuz/Desktop/dataset/train', 'girl')\n",
    "        os.mkdir(path)\n",
    "        path=os.path.join('/Users/caglaoksuz/Desktop/dataset/test', 'girl')\n",
    "        os.mkdir(path)\n",
    "    if(i==43):\n",
    "        path=os.path.join('/Users/caglaoksuz/Desktop/dataset/train', 'lion')\n",
    "        os.mkdir(path)\n",
    "        path=os.path.join('/Users/caglaoksuz/Desktop/dataset/test', 'lion')\n",
    "        os.mkdir(path)\n",
    "    if(i==71):\n",
    "        path=os.path.join('/Users/caglaoksuz/Desktop/dataset/train', 'sea')\n",
    "        os.mkdir(path)\n",
    "        path=os.path.join('/Users/caglaoksuz/Desktop/dataset/test', 'sea')\n",
    "        os.mkdir(path) \n",
    "    if(i==92):\n",
    "        path=os.path.join('/Users/caglaoksuz/Desktop/dataset/train', 'tulip')\n",
    "        os.mkdir(path)\n",
    "        path=os.path.join('/Users/caglaoksuz/Desktop/dataset/test', 'tulip')\n",
    "        os.mkdir(path)     "
   ]
  },
  {
   "cell_type": "code",
   "execution_count": null,
   "metadata": {},
   "outputs": [],
   "source": [
    "        \n",
    "####Hazirlanilan klasorlere train icin cifar100 data setindeki train verileri aliniyor\n",
    "for i in range(50000):\n",
    "    if(y_train[i]==6):\n",
    "        path='/Users/caglaoksuz/Desktop/dataset/train/bee'+'/'+str(i)+ '.png'\n",
    "        train_data=Image.fromarray(X_train[i])\n",
    "        plt.imsave(path, X_train[i])\n",
    "    if(y_train[i]==32):\n",
    "        path='/Users/caglaoksuz/Desktop/dataset/train/flatfish'+'/'+str(i)+ '.png'\n",
    "        train_data=Image.fromarray(X_train[i])\n",
    "        plt.imsave(path, X_train[i])\n",
    "    if(y_train[i]==35):\n",
    "        path='/Users/caglaoksuz/Desktop/dataset/train/girl'+'/'+str(i)+ '.png'\n",
    "        train_data=Image.fromarray(X_train[i])\n",
    "        plt.imsave(path, X_train[i])\n",
    "    if(y_train[i]==43):\n",
    "        path='/Users/caglaoksuz/Desktop/dataset/train/lion'+'/'+str(i)+ '.png'\n",
    "        train_data=Image.fromarray(X_train[i])\n",
    "        plt.imsave(path, X_train[i])\n",
    "    if(y_train[i]==71):\n",
    "        path='/Users/caglaoksuz/Desktop/dataset/train/sea'+'/'+str(i)+ '.png'\n",
    "        train_data=Image.fromarray(X_train[i])\n",
    "        plt.imsave(path, X_train[i])    \n",
    "    if(y_train[i]==92):\n",
    "        path='/Users/caglaoksuz/Desktop/dataset/train/tulip'+'/'+str(i)+ '.png'\n",
    "        train_data=Image.fromarray(X_train[i])\n",
    "        plt.imsave(path, X_train[i])  "
   ]
  },
  {
   "cell_type": "code",
   "execution_count": null,
   "metadata": {},
   "outputs": [],
   "source": [
    "####Hazirlanilan klasorlere test icin cifar100 data setindeki validation verileri aliniyor\n",
    "for i in range(10000):\n",
    "    if(y_test[i]==6):\n",
    "        path='/Users/bugrapolat/Desktop/dataset/test/bee'+'/'+str(i)+ '.png'\n",
    "        test_data=Image.fromarray(X_test[i])\n",
    "        plt.imsave(path, X_test[i])\n",
    "    if(y_test[i]==32):\n",
    "        path='/Users/bugrapolat/Desktop/dataset/test/flatfish'+'/'+str(i)+ '.png'\n",
    "        test_data=Image.fromarray(X_test[i])\n",
    "        plt.imsave(path, X_test[i])\n",
    "    if(y_test[i]==35):\n",
    "        path='/Users/caglaoksuz/Desktop/dataset/test/girl'+'/'+str(i)+ '.png'\n",
    "        test_data=Image.fromarray(X_test[i])\n",
    "        plt.imsave(path, X_test[i])\n",
    "    if(y_test[i]==43):\n",
    "        path='/Users/caglaoksuz/Desktop/dataset/test/lion'+'/'+str(i)+ '.png'\n",
    "        test_data=Image.fromarray(X_test[i])\n",
    "        plt.imsave(path, X_test[i])\n",
    "    if(y_test[i]==71):\n",
    "        path='/Users/caglaoksuz/Desktop/dataset/test/sea'+'/'+str(i)+ '.png'\n",
    "        test_data=Image.fromarray(X_test[i])\n",
    "        plt.imsave(path, X_test[i])    \n",
    "    if(y_test[i]==92):\n",
    "        path='/Users/caglaoksuz/Desktop/dataset/test/tulip'+'/'+str(i)+ '.png'\n",
    "        test_data=Image.fromarray(X_test[i])\n",
    "        plt.imsave(path, X_test[i])    "
   ]
  },
  {
   "cell_type": "code",
   "execution_count": 6,
   "metadata": {},
   "outputs": [],
   "source": [
    "TRAIN_DIR = \"/Users/caglaoksuz/Desktop/dataset/train\"\n",
    "TEST_DIR = \"/Users/caglaoksuz/Desktop/dataset/test\"\n",
    "CATEGORIES = [\"tulip\", \"sea\", \"lion\", \"girl\", \"flatfish\", \"bee\"]\n",
    "CATEGORIES_2 = [\"tulip\", \"sea\", \"lion\", \"girl\", \"flatfish\", \"bee\"]\n",
    "        \n",
    "def label_img(img):\n",
    "    word_label = img.split('.')[-1]\n",
    "    if word_label == '1': return 1\n",
    "    elif word_label == '2': return 2\n",
    "    elif word_label == '3': return 3\n",
    "    elif word_label == '4': return 4\n",
    "    elif word_label == '5': return 5\n",
    "    elif word_label == '6': return 6"
   ]
  },
  {
   "cell_type": "code",
   "execution_count": 7,
   "metadata": {},
   "outputs": [
    {
     "name": "stderr",
     "output_type": "stream",
     "text": [
      "100%|██████████| 500/500 [00:00<00:00, 754.20it/s] \n",
      "100%|██████████| 500/500 [00:00<00:00, 1272.46it/s]\n",
      "100%|██████████| 500/500 [00:00<00:00, 707.44it/s]\n",
      "100%|██████████| 500/500 [00:00<00:00, 1038.82it/s]\n",
      "100%|██████████| 500/500 [00:00<00:00, 759.64it/s]\n",
      "100%|██████████| 500/500 [00:00<00:00, 872.82it/s] \n"
     ]
    },
    {
     "name": "stdout",
     "output_type": "stream",
     "text": [
      "3000\n"
     ]
    }
   ],
   "source": [
    "from tqdm import tqdm\n",
    "import random\n",
    "import numpy as np\n",
    "import os\n",
    "import cv2\n",
    "def create_training_data():\n",
    "    training_data = []\n",
    "    \n",
    "    for category in CATEGORIES:                  #Image dosyalarini cagirmak icin   \n",
    "        path = os.path.join(TRAIN_DIR,category)  # Image dosyalarinin yollarinin yolunu getirir\n",
    "        class_num = CATEGORIES.index(category)  \n",
    "        for img in tqdm(os.listdir(path)):  # goruntuleri sira ile cagiririz\n",
    "            label = label_img(img)          \n",
    "            try:                 \n",
    "                img_array = cv2.imread(os.path.join(path,img))            \n",
    "                training_data.append([np.array(img_array), np.array(class_num)])        \n",
    "            except Exception as e:  \n",
    "                pass\n",
    "    random.shuffle(training_data)              \n",
    "    np.save('train_data.npy', training_data)   \n",
    "    return training_data\n",
    "    \n",
    "train_data=create_training_data()      \n",
    "print(len(train_data))       #toplam train_data sayisini ekrana yazdirdim"
   ]
  },
  {
   "cell_type": "code",
   "execution_count": 8,
   "metadata": {},
   "outputs": [
    {
     "name": "stderr",
     "output_type": "stream",
     "text": [
      "100%|██████████| 100/100 [00:00<00:00, 3127.35it/s]\n",
      "100%|██████████| 100/100 [00:00<00:00, 2668.52it/s]\n",
      "100%|██████████| 100/100 [00:00<00:00, 2510.30it/s]\n",
      "100%|██████████| 100/100 [00:00<00:00, 3876.08it/s]\n",
      "100%|██████████| 100/100 [00:00<00:00, 3342.90it/s]\n",
      "100%|██████████| 100/100 [00:00<00:00, 3327.78it/s]\n"
     ]
    },
    {
     "name": "stdout",
     "output_type": "stream",
     "text": [
      "600\n"
     ]
    }
   ],
   "source": [
    "def create_test_data():\n",
    "    testing_data = []\n",
    "    for category_2 in CATEGORIES_2:       \n",
    "        path = os.path.join(TEST_DIR,category_2)\n",
    "        class_num=CATEGORIES_2.index(category_2)        \n",
    "        for img in tqdm(os.listdir(path)):\n",
    "            label = label_img(img)         \n",
    "            try:\n",
    "                img_array = cv2.imread(os.path.join(path,img))\n",
    "                testing_data.append([np.array(img_array), class_num])        \n",
    "            except Exception as e:\n",
    "                pass           \n",
    "    random.shuffle(testing_data) #karistirir\n",
    "    np.save('test_data.npy', testing_data)    \n",
    "    return testing_data    \n",
    "\n",
    "test_data=create_test_data()\n",
    "\n",
    "print(len(test_data))"
   ]
  },
  {
   "cell_type": "code",
   "execution_count": 9,
   "metadata": {},
   "outputs": [],
   "source": [
    "import keras\n",
    "from keras.models import Sequential\n",
    "from tensorflow.keras.optimizers import RMSprop\n",
    "from keras.layers import Dense, Dropout, Activation, Flatten\n",
    "from keras.layers import Conv2D, MaxPooling2D\n",
    "\n",
    "model = Sequential()\n",
    "model.add(Conv2D(32, (3, 3), padding='same'))   #convNet 1\n",
    "model.add(Activation('relu'))\n",
    "model.add(Conv2D(32, (3, 3)))                   #covNet  2\n",
    "model.add(Activation('relu'))\n",
    "model.add(Conv2D(64, (3, 3)))                   #covNet  3\n",
    "model.add(Activation('relu'))\n",
    "model.add(MaxPooling2D(pool_size=(2, 2)))       #Maxpool I\n",
    "model.add(Conv2D(64, (3, 3)))                   #covNet  4\n",
    "model.add(Activation('relu'))    \n",
    "model.add(MaxPooling2D(pool_size=(2, 2)))       #Maxpool II\n",
    "model.add(Conv2D(128, (3, 3)))                  #covNet 5\n",
    "model.add(Activation('relu')) \n",
    "model.add(MaxPooling2D(pool_size=(2, 2)))       #Maxpool  III\n",
    "\n",
    "model.add(Flatten())                            #Flatten#\n",
    "model.add(Dense(128))                           #Dense 1\n",
    "model.add(Activation('relu'))\n",
    "model.add(Dense(256))                           #Dense 2\n",
    "model.add(Activation('relu'))\n",
    "\n",
    "model.add(Dense(6, activation='softmax'))       #Dense 3\n",
    "\n",
    "opt = keras.optimizers.RMSprop(learning_rate=0.0001, decay=1e-6)\n",
    "\n",
    "model.compile(loss='sparse_categorical_crossentropy',\n",
    "              optimizer=opt,\n",
    "              metrics=['acc'])\n",
    "\n",
    "\n",
    "X = np.array([i[0] for i in train_data]).reshape(-1,32,32,3)\n",
    "Y = [i[1] for i in train_data]\n",
    "Y = np.reshape(Y, (-1, 1))\n",
    "\n",
    "X_test = np.array([i[0] for i in test_data]).reshape(-1,32,32,3)\n",
    "Y_test = [i[1] for i in test_data]\n",
    "Y_test = np.reshape(Y_test, (-1, 1))"
   ]
  },
  {
   "cell_type": "code",
   "execution_count": 10,
   "metadata": {},
   "outputs": [
    {
     "name": "stdout",
     "output_type": "stream",
     "text": [
      "Train on 3000 samples, validate on 600 samples\n",
      "Epoch 1/30\n",
      "3000/3000 [==============================] - 21s 7ms/step - loss: 1.9370 - acc: 0.3680 - val_loss: 1.5666 - val_acc: 0.4083\n",
      "Epoch 2/30\n",
      "3000/3000 [==============================] - 18s 6ms/step - loss: 1.3021 - acc: 0.5013 - val_loss: 1.2089 - val_acc: 0.5383\n",
      "Epoch 3/30\n",
      "3000/3000 [==============================] - 18s 6ms/step - loss: 1.1260 - acc: 0.5677 - val_loss: 1.1870 - val_acc: 0.5617\n",
      "Epoch 4/30\n",
      "3000/3000 [==============================] - 18s 6ms/step - loss: 1.0108 - acc: 0.6237 - val_loss: 1.0313 - val_acc: 0.6183\n",
      "Epoch 5/30\n",
      "3000/3000 [==============================] - 19s 6ms/step - loss: 0.9249 - acc: 0.6493 - val_loss: 1.0358 - val_acc: 0.6217\n",
      "Epoch 6/30\n",
      "3000/3000 [==============================] - 21s 7ms/step - loss: 0.8482 - acc: 0.6720 - val_loss: 1.0119 - val_acc: 0.6233\n",
      "Epoch 7/30\n",
      "3000/3000 [==============================] - 20s 7ms/step - loss: 0.7987 - acc: 0.7110 - val_loss: 0.8659 - val_acc: 0.6783\n",
      "Epoch 8/30\n",
      "3000/3000 [==============================] - 21s 7ms/step - loss: 0.7086 - acc: 0.7407 - val_loss: 0.9175 - val_acc: 0.6783\n",
      "Epoch 9/30\n",
      "3000/3000 [==============================] - 19s 6ms/step - loss: 0.6580 - acc: 0.7623 - val_loss: 0.8274 - val_acc: 0.7017\n",
      "Epoch 10/30\n",
      "3000/3000 [==============================] - 20s 7ms/step - loss: 0.6053 - acc: 0.7810 - val_loss: 0.7953 - val_acc: 0.7150\n",
      "Epoch 11/30\n",
      "3000/3000 [==============================] - 20s 7ms/step - loss: 0.5503 - acc: 0.8047 - val_loss: 0.7884 - val_acc: 0.7267\n",
      "Epoch 12/30\n",
      "3000/3000 [==============================] - 19s 6ms/step - loss: 0.5079 - acc: 0.8167 - val_loss: 0.8481 - val_acc: 0.7017\n",
      "Epoch 13/30\n",
      "3000/3000 [==============================] - 19s 6ms/step - loss: 0.4746 - acc: 0.8330 - val_loss: 0.8304 - val_acc: 0.6917\n",
      "Epoch 14/30\n",
      "3000/3000 [==============================] - 19s 6ms/step - loss: 0.4214 - acc: 0.8553 - val_loss: 0.8737 - val_acc: 0.7000\n",
      "Epoch 15/30\n",
      "3000/3000 [==============================] - 19s 6ms/step - loss: 0.3971 - acc: 0.8600 - val_loss: 0.8096 - val_acc: 0.7367\n",
      "Epoch 16/30\n",
      "3000/3000 [==============================] - 19s 6ms/step - loss: 0.3439 - acc: 0.8840 - val_loss: 0.9783 - val_acc: 0.7033\n",
      "Epoch 17/30\n",
      "3000/3000 [==============================] - 18s 6ms/step - loss: 0.3219 - acc: 0.8883 - val_loss: 0.7782 - val_acc: 0.7400\n",
      "Epoch 18/30\n",
      "3000/3000 [==============================] - 18s 6ms/step - loss: 0.2855 - acc: 0.9040 - val_loss: 0.9497 - val_acc: 0.7033\n",
      "Epoch 19/30\n",
      "3000/3000 [==============================] - 19s 6ms/step - loss: 0.2693 - acc: 0.9110 - val_loss: 0.9077 - val_acc: 0.7283\n",
      "Epoch 20/30\n",
      "3000/3000 [==============================] - 18s 6ms/step - loss: 0.2254 - acc: 0.9313 - val_loss: 0.8356 - val_acc: 0.7633\n",
      "Epoch 21/30\n",
      "3000/3000 [==============================] - 227s 76ms/step - loss: 0.2043 - acc: 0.9397 - val_loss: 0.8563 - val_acc: 0.7300\n",
      "Epoch 22/30\n",
      "3000/3000 [==============================] - 19s 6ms/step - loss: 0.1837 - acc: 0.9437 - val_loss: 0.8363 - val_acc: 0.7350\n",
      "Epoch 23/30\n",
      "3000/3000 [==============================] - 18s 6ms/step - loss: 0.1734 - acc: 0.9453 - val_loss: 0.8335 - val_acc: 0.7650\n",
      "Epoch 24/30\n",
      "3000/3000 [==============================] - 19s 6ms/step - loss: 0.1526 - acc: 0.9573 - val_loss: 1.0120 - val_acc: 0.7250\n",
      "Epoch 25/30\n",
      "3000/3000 [==============================] - 19s 6ms/step - loss: 0.1219 - acc: 0.9663 - val_loss: 0.8494 - val_acc: 0.7583\n",
      "Epoch 26/30\n",
      "3000/3000 [==============================] - 20s 7ms/step - loss: 0.1215 - acc: 0.9607 - val_loss: 1.2253 - val_acc: 0.7017\n",
      "Epoch 27/30\n",
      "3000/3000 [==============================] - 27s 9ms/step - loss: 0.1133 - acc: 0.9677 - val_loss: 0.9463 - val_acc: 0.7483\n",
      "Epoch 28/30\n",
      "3000/3000 [==============================] - 23s 8ms/step - loss: 0.0713 - acc: 0.9850 - val_loss: 0.9786 - val_acc: 0.7483\n",
      "Epoch 29/30\n",
      "3000/3000 [==============================] - 24s 8ms/step - loss: 0.1016 - acc: 0.9727 - val_loss: 0.8898 - val_acc: 0.7833\n",
      "Epoch 30/30\n",
      "3000/3000 [==============================] - 19s 6ms/step - loss: 0.0604 - acc: 0.9873 - val_loss: 0.9260 - val_acc: 0.7700\n"
     ]
    }
   ],
   "source": [
    "history=model.fit(X, Y, epochs=30,\n",
    "          batch_size=50, validation_data = (X_test, Y_test), shuffle=True)"
   ]
  },
  {
   "cell_type": "code",
   "execution_count": 46,
   "metadata": {},
   "outputs": [
    {
     "data": {
      "image/png": "[encoded data removed]",
      "text/plain": [
       "<Figure size 432x288 with 1 Axes>"
      ]
     },
     "metadata": {
      "needs_background": "light"
     },
     "output_type": "display_data"
    },
    {
     "data": {
      "image/png": "[encoded data removed]",
      "text/plain": [
       "<Figure size 432x288 with 1 Axes>"
      ]
     },
     "metadata": {
      "needs_background": "light"
     },
     "output_type": "display_data"
    }
   ],
   "source": [
    "import matplotlib.pyplot as plt\n",
    "acc = history.history['acc']\n",
    "val_acc = history.history['val_acc']\n",
    "loss = history.history['loss']\n",
    "val_loss = history.history['val_loss']\n",
    "epochs = range(1, len(acc) + 1)\n",
    "plt.plot(epochs, acc, 'bo', label='Training acc')\n",
    "plt.plot(epochs, val_acc, 'b', label='Validation acc')\n",
    "plt.title('Training and validation accuracy')\n",
    "plt.ylabel('accuracy')\n",
    "plt.xlabel('epoch')\n",
    "plt.legend()\n",
    "plt.figure()\n",
    "plt.plot(epochs, loss, 'bo', label='Training loss')\n",
    "plt.plot(epochs, val_loss, 'b', label='Validation loss')\n",
    "plt.title('Training and validation loss')\n",
    "plt.ylabel('loss')\n",
    "plt.xlabel('epoch')\n",
    "plt.legend()\n",
    "plt.show()"
   ]
  },
  {
   "cell_type": "code",
   "execution_count": 44,
   "metadata": {},
   "outputs": [],
   "source": [
    "model = Sequential()\n",
    "model.add(Conv2D(32, (3, 3), padding='same'))   #convNet 1\n",
    "model.add(Activation('relu'))\n",
    "model.add(Conv2D(32, (3, 3)))                   #covNet  2\n",
    "model.add(Activation('relu'))\n",
    "model.add(Conv2D(64, (3, 3)))                   #covNet  3\n",
    "model.add(Activation('relu'))\n",
    "model.add(MaxPooling2D(pool_size=(2, 2)))       #Maxpool I\n",
    "model.add(Conv2D(64, (3, 3)))                   #covNet  4\n",
    "model.add(Dropout(0.25))\n",
    "model.add(Activation('relu'))    \n",
    "model.add(MaxPooling2D(pool_size=(2, 2)))       #Maxpool II\n",
    "model.add(Conv2D(128, (3, 3)))                  #covNet 5\n",
    "model.add(Dropout(0.25))\n",
    "model.add(Activation('relu')) \n",
    "model.add(MaxPooling2D(pool_size=(2, 2)))       #Maxpool  III\n",
    "\n",
    "model.add(Flatten())                            #Flatten#\n",
    "model.add(Dense(128))                           #Dense 1\n",
    "model.add(Activation('relu'))\n",
    "model.add(Dropout(0.25))\n",
    "model.add(Dense(256))                           #Dense 2\n",
    "model.add(Activation('relu'))\n",
    "\n",
    "model.add(Dense(6, activation='softmax'))       #Dense 3\n",
    "\n",
    "opt = keras.optimizers.RMSprop(learning_rate=0.0001, decay=1e-6)\n",
    "\n",
    "model.compile(loss='sparse_categorical_crossentropy',\n",
    "              optimizer=opt,\n",
    "              metrics=['acc'])\n",
    "\n",
    "\n",
    "X = np.array([i[0] for i in train_data]).reshape(-1,32,32,3)\n",
    "Y = [i[1] for i in train_data]\n",
    "Y = np.reshape(Y, (-1, 1))\n",
    "\n",
    "X_test = np.array([i[0] for i in test_data]).reshape(-1,32,32,3)\n",
    "Y_test = [i[1] for i in test_data]\n",
    "Y_test = np.reshape(Y_test, (-1, 1))\n"
   ]
  },
  {
   "cell_type": "code",
   "execution_count": 45,
   "metadata": {},
   "outputs": [
    {
     "name": "stdout",
     "output_type": "stream",
     "text": [
      "Train on 3000 samples, validate on 600 samples\n",
      "Epoch 1/30\n",
      "3000/3000 [==============================] - 21s 7ms/step - loss: 2.8055 - acc: 0.3170 - val_loss: 1.4010 - val_acc: 0.4900\n",
      "Epoch 2/30\n",
      "3000/3000 [==============================] - 20s 7ms/step - loss: 1.4776 - acc: 0.4340 - val_loss: 1.3120 - val_acc: 0.5117\n",
      "Epoch 3/30\n",
      "3000/3000 [==============================] - 20s 7ms/step - loss: 1.2967 - acc: 0.5040 - val_loss: 1.2289 - val_acc: 0.5583\n",
      "Epoch 4/30\n",
      "3000/3000 [==============================] - 20s 7ms/step - loss: 1.2034 - acc: 0.5440 - val_loss: 1.1583 - val_acc: 0.6167\n",
      "Epoch 5/30\n",
      "3000/3000 [==============================] - 20s 7ms/step - loss: 1.1196 - acc: 0.5860 - val_loss: 1.1087 - val_acc: 0.6083\n",
      "Epoch 6/30\n",
      "3000/3000 [==============================] - 20s 7ms/step - loss: 1.0679 - acc: 0.6023 - val_loss: 1.0248 - val_acc: 0.6767\n",
      "Epoch 7/30\n",
      "3000/3000 [==============================] - 20s 7ms/step - loss: 1.0238 - acc: 0.6160 - val_loss: 0.9975 - val_acc: 0.6967\n",
      "Epoch 8/30\n",
      "3000/3000 [==============================] - 24s 8ms/step - loss: 0.9552 - acc: 0.6430 - val_loss: 0.9701 - val_acc: 0.6850\n",
      "Epoch 9/30\n",
      "3000/3000 [==============================] - 25s 8ms/step - loss: 0.9298 - acc: 0.6583 - val_loss: 0.9054 - val_acc: 0.7167\n",
      "Epoch 10/30\n",
      "3000/3000 [==============================] - 20s 7ms/step - loss: 0.8916 - acc: 0.6673 - val_loss: 0.8909 - val_acc: 0.6983\n",
      "Epoch 11/30\n",
      "3000/3000 [==============================] - 21s 7ms/step - loss: 0.8941 - acc: 0.6673 - val_loss: 0.8924 - val_acc: 0.7000\n",
      "Epoch 12/30\n",
      "3000/3000 [==============================] - 22s 7ms/step - loss: 0.8549 - acc: 0.6787 - val_loss: 0.8447 - val_acc: 0.7217\n",
      "Epoch 13/30\n",
      "3000/3000 [==============================] - 21s 7ms/step - loss: 0.8299 - acc: 0.6880 - val_loss: 0.8469 - val_acc: 0.7450\n",
      "Epoch 14/30\n",
      "3000/3000 [==============================] - 21s 7ms/step - loss: 0.7752 - acc: 0.7120 - val_loss: 0.8691 - val_acc: 0.7267\n",
      "Epoch 15/30\n",
      "3000/3000 [==============================] - 20s 7ms/step - loss: 0.7463 - acc: 0.7210 - val_loss: 0.7946 - val_acc: 0.7517\n",
      "Epoch 16/30\n",
      "3000/3000 [==============================] - 20s 7ms/step - loss: 0.7299 - acc: 0.7353 - val_loss: 0.8250 - val_acc: 0.7100\n",
      "Epoch 17/30\n",
      "3000/3000 [==============================] - 20s 7ms/step - loss: 0.7177 - acc: 0.7363 - val_loss: 0.7612 - val_acc: 0.7367\n",
      "Epoch 18/30\n",
      "3000/3000 [==============================] - 20s 7ms/step - loss: 0.6949 - acc: 0.7463 - val_loss: 0.7611 - val_acc: 0.7750\n",
      "Epoch 19/30\n",
      "3000/3000 [==============================] - 21s 7ms/step - loss: 0.6922 - acc: 0.7413 - val_loss: 0.7191 - val_acc: 0.7717\n",
      "Epoch 20/30\n",
      "3000/3000 [==============================] - 18s 6ms/step - loss: 0.6673 - acc: 0.7583 - val_loss: 0.6989 - val_acc: 0.7633\n",
      "Epoch 21/30\n",
      "3000/3000 [==============================] - 18s 6ms/step - loss: 0.6344 - acc: 0.7633 - val_loss: 0.7067 - val_acc: 0.7633\n",
      "Epoch 22/30\n",
      "3000/3000 [==============================] - 18s 6ms/step - loss: 0.6164 - acc: 0.7663 - val_loss: 0.7205 - val_acc: 0.7533\n",
      "Epoch 23/30\n",
      "3000/3000 [==============================] - 18s 6ms/step - loss: 0.6094 - acc: 0.7730 - val_loss: 0.6939 - val_acc: 0.7650\n",
      "Epoch 24/30\n",
      "3000/3000 [==============================] - 18s 6ms/step - loss: 0.5959 - acc: 0.7833 - val_loss: 0.6811 - val_acc: 0.7617\n",
      "Epoch 25/30\n",
      "3000/3000 [==============================] - 18s 6ms/step - loss: 0.5717 - acc: 0.7870 - val_loss: 0.6633 - val_acc: 0.7717\n",
      "Epoch 26/30\n",
      "3000/3000 [==============================] - 18s 6ms/step - loss: 0.5785 - acc: 0.7827 - val_loss: 0.6769 - val_acc: 0.7667\n",
      "Epoch 27/30\n",
      "3000/3000 [==============================] - 18s 6ms/step - loss: 0.5509 - acc: 0.7943 - val_loss: 0.6571 - val_acc: 0.7833\n",
      "Epoch 28/30\n",
      "3000/3000 [==============================] - 19s 6ms/step - loss: 0.5135 - acc: 0.8133 - val_loss: 0.6523 - val_acc: 0.7817\n",
      "Epoch 29/30\n",
      "3000/3000 [==============================] - 19s 6ms/step - loss: 0.5252 - acc: 0.8140 - val_loss: 0.6580 - val_acc: 0.7683\n",
      "Epoch 30/30\n",
      "3000/3000 [==============================] - 18s 6ms/step - loss: 0.4958 - acc: 0.8230 - val_loss: 0.7007 - val_acc: 0.7683\n"
     ]
    }
   ],
   "source": [
    "history=model.fit(X, Y, epochs=30,\n",
    "          batch_size=50, validation_data = (X_test, Y_test), shuffle=True)"
   ]
  },
  {
   "cell_type": "code",
   "execution_count": 11,
   "metadata": {},
   "outputs": [
    {
     "name": "stdout",
     "output_type": "stream",
     "text": [
      "Epoch 1/30\n",
      "30/30 [==============================] - 19s 646ms/step - loss: 1.2583 - acc: 0.6423 - val_loss: 0.9918 - val_acc: 0.6800\n",
      "Epoch 2/30\n",
      "30/30 [==============================] - 18s 612ms/step - loss: 0.9915 - acc: 0.6560 - val_loss: 0.6995 - val_acc: 0.7450\n",
      "Epoch 3/30\n",
      "30/30 [==============================] - 18s 599ms/step - loss: 0.8934 - acc: 0.6840 - val_loss: 0.7116 - val_acc: 0.7600\n",
      "Epoch 4/30\n",
      "30/30 [==============================] - 18s 596ms/step - loss: 0.8567 - acc: 0.6977 - val_loss: 0.6818 - val_acc: 0.7800\n",
      "Epoch 5/30\n",
      "30/30 [==============================] - 17s 583ms/step - loss: 0.8379 - acc: 0.6947 - val_loss: 0.7210 - val_acc: 0.7617\n",
      "Epoch 6/30\n",
      "30/30 [==============================] - 17s 582ms/step - loss: 0.8131 - acc: 0.7037 - val_loss: 0.7928 - val_acc: 0.7367\n",
      "Epoch 7/30\n",
      "30/30 [==============================] - 17s 583ms/step - loss: 0.8127 - acc: 0.6983 - val_loss: 0.6749 - val_acc: 0.7817\n",
      "Epoch 8/30\n",
      "30/30 [==============================] - 18s 585ms/step - loss: 0.7881 - acc: 0.7103 - val_loss: 0.6573 - val_acc: 0.7667\n",
      "Epoch 9/30\n",
      "30/30 [==============================] - 18s 590ms/step - loss: 0.7784 - acc: 0.7063 - val_loss: 0.8867 - val_acc: 0.6850\n",
      "Epoch 10/30\n",
      "30/30 [==============================] - 18s 596ms/step - loss: 0.7785 - acc: 0.7080 - val_loss: 0.6490 - val_acc: 0.7817\n",
      "Epoch 11/30\n",
      "30/30 [==============================] - 18s 590ms/step - loss: 0.7603 - acc: 0.7250 - val_loss: 0.8002 - val_acc: 0.7283\n",
      "Epoch 12/30\n",
      "30/30 [==============================] - 18s 586ms/step - loss: 0.7459 - acc: 0.7267 - val_loss: 0.8107 - val_acc: 0.7333\n",
      "Epoch 13/30\n",
      "30/30 [==============================] - 18s 589ms/step - loss: 0.7383 - acc: 0.7277 - val_loss: 0.6346 - val_acc: 0.7850\n",
      "Epoch 14/30\n",
      "30/30 [==============================] - 17s 583ms/step - loss: 0.7106 - acc: 0.7360 - val_loss: 0.7499 - val_acc: 0.7467\n",
      "Epoch 15/30\n",
      "30/30 [==============================] - 18s 586ms/step - loss: 0.7214 - acc: 0.7353 - val_loss: 0.6643 - val_acc: 0.7733\n",
      "Epoch 16/30\n",
      "30/30 [==============================] - 18s 585ms/step - loss: 0.7105 - acc: 0.7420 - val_loss: 0.6308 - val_acc: 0.7850\n",
      "Epoch 17/30\n",
      "30/30 [==============================] - 18s 589ms/step - loss: 0.6946 - acc: 0.7407 - val_loss: 0.6451 - val_acc: 0.7750\n",
      "Epoch 18/30\n",
      "30/30 [==============================] - 18s 589ms/step - loss: 0.6914 - acc: 0.7473 - val_loss: 0.6721 - val_acc: 0.7667\n",
      "Epoch 19/30\n",
      "30/30 [==============================] - 18s 588ms/step - loss: 0.6858 - acc: 0.7380 - val_loss: 0.6594 - val_acc: 0.7733\n",
      "Epoch 20/30\n",
      "30/30 [==============================] - 18s 598ms/step - loss: 0.6883 - acc: 0.7477 - val_loss: 0.6849 - val_acc: 0.7467\n",
      "Epoch 21/30\n",
      "30/30 [==============================] - 17s 579ms/step - loss: 0.6642 - acc: 0.7540 - val_loss: 0.6521 - val_acc: 0.7817\n",
      "Epoch 22/30\n",
      "30/30 [==============================] - 43s 1s/step - loss: 0.6559 - acc: 0.7583 - val_loss: 0.7230 - val_acc: 0.7550\n",
      "Epoch 23/30\n",
      "30/30 [==============================] - 21s 684ms/step - loss: 0.6531 - acc: 0.7547 - val_loss: 0.6784 - val_acc: 0.7750\n",
      "Epoch 24/30\n",
      "30/30 [==============================] - 18s 614ms/step - loss: 0.6706 - acc: 0.7493 - val_loss: 0.7210 - val_acc: 0.7517\n",
      "Epoch 25/30\n",
      "30/30 [==============================] - 19s 618ms/step - loss: 0.6343 - acc: 0.7610 - val_loss: 0.6794 - val_acc: 0.7817\n",
      "Epoch 26/30\n",
      "30/30 [==============================] - 21s 703ms/step - loss: 0.6317 - acc: 0.7663 - val_loss: 0.6374 - val_acc: 0.7917\n",
      "Epoch 27/30\n",
      "30/30 [==============================] - 18s 585ms/step - loss: 0.6221 - acc: 0.7713 - val_loss: 0.6265 - val_acc: 0.7800\n",
      "Epoch 28/30\n",
      "30/30 [==============================] - 17s 572ms/step - loss: 0.6326 - acc: 0.7670 - val_loss: 0.6585 - val_acc: 0.7850\n",
      "Epoch 29/30\n",
      "30/30 [==============================] - 17s 571ms/step - loss: 0.6129 - acc: 0.7800 - val_loss: 0.6814 - val_acc: 0.7783\n",
      "Epoch 30/30\n",
      "30/30 [==============================] - 17s 575ms/step - loss: 0.6181 - acc: 0.7703 - val_loss: 0.6536 - val_acc: 0.7883\n"
     ]
    },
    {
     "data": {
      "text/plain": [
       "<keras.callbacks.callbacks.History at 0x632f1b1d0>"
      ]
     },
     "execution_count": 11,
     "metadata": {},
     "output_type": "execute_result"
    }
   ],
   "source": [
    "from keras.preprocessing.image import ImageDataGenerator\n",
    "datagen=ImageDataGenerator( rotation_range=90,\n",
    "                            width_shift_range=0.1)\n",
    "\n",
    "datagen.fit(X)\n",
    "model.fit_generator(datagen.flow(X,Y, batch_size=100),\n",
    "                   epochs=30,\n",
    "                   validation_data=(X_test, Y_test))"
   ]
  },
  {
   "cell_type": "code",
   "execution_count": 13,
   "metadata": {},
   "outputs": [
    {
     "name": "stderr",
     "output_type": "stream",
     "text": [
      "100%|██████████| 100/100 [00:00<00:00, 4169.50it/s]\n",
      "100%|██████████| 100/100 [00:00<00:00, 2472.12it/s]\n",
      "100%|██████████| 100/100 [00:00<00:00, 3725.62it/s]\n",
      "100%|██████████| 100/100 [00:00<00:00, 1060.79it/s]\n",
      "100%|██████████| 100/100 [00:00<00:00, 4873.53it/s]\n",
      "100%|██████████| 100/100 [00:00<00:00, 3711.67it/s]\n"
     ]
    },
    {
     "data": {
      "image/png": "[encoded data removed]",
      "text/plain": [
       "<Figure size 432x288 with 6 Axes>"
      ]
     },
     "metadata": {
      "needs_background": "light"
     },
     "output_type": "display_data"
    }
   ],
   "source": [
    "import matplotlib.pyplot as plt\n",
    "test_data = create_test_data()\n",
    "\n",
    "fig=plt.figure()\n",
    "\n",
    "for num,data in enumerate(test_data[:6]):\n",
    "\n",
    "    img_num = data[1]\n",
    "    img_data = data[0]\n",
    "\n",
    "    \n",
    "    y = fig.add_subplot(3,4,num+1)\n",
    "    orig = img_data\n",
    "    data = img_data.reshape(-1,32,32,3)\n",
    "    model_out = model.predict([data])[0]\n",
    "\n",
    "    if np.argmax(model_out) == 0: str_label='Tulip'\n",
    "    elif np.argmax(model_out) == 1:  str_label='Sea'\n",
    "    elif np.argmax(model_out) == 2:  str_label='Lion'\n",
    "    elif np.argmax(model_out) == 3:  str_label='Girl'\n",
    "    elif np.argmax(model_out) == 4:  str_label='Flatfish'\n",
    "    elif np.argmax(model_out) == 5:  str_label='Bee'\n",
    "           \n",
    "    y.imshow(orig,cmap='gray')\n",
    "    plt.title(str_label)\n",
    "    y.axes.get_xaxis().set_visible(False)\n",
    "    y.axes.get_yaxis().set_visible(False)\n",
    "plt.show()"
   ]
  },
  {
   "cell_type": "code",
   "execution_count": null,
   "metadata": {},
   "outputs": [],
   "source": []
  },
  {
   "cell_type": "code",
   "execution_count": null,
   "metadata": {},
   "outputs": [],
   "source": []
  },
  {
   "cell_type": "code",
   "execution_count": null,
   "metadata": {},
   "outputs": [],
   "source": []
  },
  {
   "cell_type": "code",
   "execution_count": null,
   "metadata": {},
   "outputs": [],
   "source": []
  },
  {
   "cell_type": "code",
   "execution_count": null,
   "metadata": {},
   "outputs": [],
   "source": []
  },
  {
   "cell_type": "code",
   "execution_count": null,
   "metadata": {},
   "outputs": [],
   "source": []
  },
  {
   "cell_type": "code",
   "execution_count": null,
   "metadata": {},
   "outputs": [],
   "source": []
  },
  {
   "cell_type": "code",
   "execution_count": null,
   "metadata": {},
   "outputs": [],
   "source": []
  },
  {
   "cell_type": "code",
   "execution_count": null,
   "metadata": {},
   "outputs": [],
   "source": []
  },
  {
   "cell_type": "code",
   "execution_count": null,
   "metadata": {},
   "outputs": [],
   "source": []
  },
  {
   "cell_type": "code",
   "execution_count": null,
   "metadata": {},
   "outputs": [],
   "source": []
  },
  {
   "cell_type": "code",
   "execution_count": null,
   "metadata": {},
   "outputs": [],
   "source": []
  },
  {
   "cell_type": "code",
   "execution_count": null,
   "metadata": {},
   "outputs": [],
   "source": []
  },
  {
   "cell_type": "code",
   "execution_count": null,
   "metadata": {},
   "outputs": [],
   "source": []
  },
  {
   "cell_type": "code",
   "execution_count": null,
   "metadata": {},
   "outputs": [],
   "source": []
  },
  {
   "cell_type": "code",
   "execution_count": null,
   "metadata": {},
   "outputs": [],
   "source": []
  },
  {
   "cell_type": "code",
   "execution_count": null,
   "metadata": {},
   "outputs": [],
   "source": []
  },
  {
   "cell_type": "code",
   "execution_count": null,
   "metadata": {},
   "outputs": [],
   "source": []
  },
  {
   "cell_type": "code",
   "execution_count": null,
   "metadata": {},
   "outputs": [],
   "source": []
  },
  {
   "cell_type": "code",
   "execution_count": null,
   "metadata": {},
   "outputs": [],
   "source": []
  },
  {
   "cell_type": "code",
   "execution_count": null,
   "metadata": {},
   "outputs": [],
   "source": []
  },
  {
   "cell_type": "code",
   "execution_count": null,
   "metadata": {},
   "outputs": [],
   "source": []
  },
  {
   "cell_type": "code",
   "execution_count": null,
   "metadata": {},
   "outputs": [],
   "source": []
  },
  {
   "cell_type": "code",
   "execution_count": null,
   "metadata": {},
   "outputs": [],
   "source": []
  },
  {
   "cell_type": "code",
   "execution_count": null,
   "metadata": {},
   "outputs": [],
   "source": []
  },
  {
   "cell_type": "code",
   "execution_count": null,
   "metadata": {},
   "outputs": [],
   "source": []
  },
  {
   "cell_type": "code",
   "execution_count": null,
   "metadata": {},
   "outputs": [],
   "source": []
  },
  {
   "cell_type": "code",
   "execution_count": null,
   "metadata": {},
   "outputs": [],
   "source": [
    "pip install tensorflow==2.2"
   ]
  }
 ],
 "metadata": {
  "celltoolbar": "Edit Metadata",
  "kernelspec": {
   "display_name": "Python 3",
   "language": "python",
   "name": "python3"
  },
  "language_info": {
   "codemirror_mode": {
    "name": "ipython",
    "version": 3
   },
   "file_extension": ".py",
   "mimetype": "text/x-python",
   "name": "python",
   "nbconvert_exporter": "python",
   "pygments_lexer": "ipython3",
   "version": "3.6.9"
  }
 },
 "nbformat": 4,
 "nbformat_minor": 4
}
